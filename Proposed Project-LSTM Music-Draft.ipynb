{
 "cells": [
  {
   "cell_type": "code",
   "execution_count": null,
   "metadata": {
    "collapsed": true
   },
   "outputs": [],
   "source": [
    "# LSTM Ticket to Write\n",
    "# This notebook trains an LSTM Neural network on an input corpus text file\n",
    "# Training has been done on 2 corpuses: \n",
    "# 1) the complete set of Beatles lyrics and 2) A collection of sheet music of folk tunes in .abc file format\n",
    "# Once the model is trained it is saved in a .yaml file\n",
    "# The model is run by providing it a seeding text (read from a file), following which it generates an output\n",
    "# Due to the structured nature of sheet music, \n",
    "# the model trained >2x as fast (100 epochs vs 250) on a corpus 2x larger for sheet music vs lyrics\n",
    "\n",
    "# Basics - importing standard libraries\n",
    "# Pls note the ones key to this project are after the hashtag for keras\n",
    "from __future__ import print_function, division\n",
    "import pandas as pd \n",
    "import numpy as np\n",
    "import random\n",
    "from matplotlib import pyplot as plt\n",
    "%matplotlib inline\n",
    "\n",
    "# nltk\n",
    "from nltk.corpus import gutenberg\n",
    "\n",
    "# keras\n",
    "np.random.seed(13)\n",
    "from keras.models import Sequential\n",
    "from keras.layers import Dense, Embedding, Reshape, Activation, SimpleRNN, GRU, LSTM, Convolution1D, MaxPooling1D, Merge, Dropout\n",
    "from IPython.display import SVG\n",
    "from keras.utils import np_utils\n",
    "from keras.utils.data_utils import get_file\n",
    "from keras.preprocessing.text import Tokenizer\n",
    "#import pydot\n",
    "#from keras.utils.visualize_util import plot,model_to_dot\n",
    "from keras.utils import plot_model\n",
    "from keras.datasets import imdb, reuters\n",
    "from keras.preprocessing import sequence\n",
    "from keras.optimizers import SGD, RMSprop\n",
    "\n",
    "# logging for gensim (set to INFO)\n",
    "import logging\n",
    "logging.basicConfig(format='%(asctime)s : %(levelname)s : %(message)s', level=logging.INFO)"
   ]
  },
  {
   "cell_type": "code",
   "execution_count": null,
   "metadata": {
    "collapsed": true
   },
   "outputs": [],
   "source": [
    "! THEANO_FLAGS=floatX=float32,device=gpu0,lib.cnmem=0.8,nvcc.flags=-D_FORCE_INLINES,dnn.enabled=True"
   ]
  },
  {
   "cell_type": "code",
   "execution_count": 2,
   "metadata": {
    "collapsed": true
   },
   "outputs": [],
   "source": [
    "import theano"
   ]
  },
  {
   "cell_type": "code",
   "execution_count": null,
   "metadata": {
    "collapsed": true
   },
   "outputs": [],
   "source": [
    "# Check theano config\n",
    "print(theano.config.floatX)\n",
    "print(theano.config.device)\n",
    "print(theano.config.lib.cnmem)\n",
    "print(theano.config.nvcc)\n",
    "print(theano.config.dnn)"
   ]
  },
  {
   "cell_type": "code",
   "execution_count": null,
   "metadata": {
    "collapsed": true
   },
   "outputs": [],
   "source": [
    "# Create a Keras Sequential model \n",
    "model = Sequential()\n",
    "\n",
    "# Specify the network architecture\n",
    "model.add(Dense(output_dim=64, input_dim=100))\n",
    "model.add(Activation(\"relu\"))\n",
    "model.add(Dense(output_dim=10))\n",
    "model.add(Activation(\"softmax\"))"
   ]
  },
  {
   "cell_type": "code",
   "execution_count": null,
   "metadata": {
    "collapsed": true
   },
   "outputs": [],
   "source": [
    "import sys\n",
    "import re\n",
    "\n",
    "# Read input file with training corpus\n",
    "with open('/home/ubuntu/input_text/hc-bd8-pp.abc',encoding=\"latin-1\") as f:\n",
    "    text = f.read()\n",
    "\n",
    "print('corpus length:', len(text))\n",
    "\n",
    "chars = sorted(list(set(text)))\n",
    "print('total chars:', len(chars))\n",
    "char_indices = dict((c, i) for i, c in enumerate(chars))\n",
    "# getting indices for characters\n",
    "indices_char = dict((i, c) for i, c in enumerate(chars))\n",
    "\n",
    "# cut the text in semi-redundant sequences of maxlen characters\n",
    "# maxlen is a parameter to be tuned separately for the Beatles lyrics and .abc format sheet music\n",
    "# tuned value for Beatles lyrics=32, tuned value for .abc sheet music=64\n",
    "maxlen = 64\n",
    "step = 3\n",
    "sentences = []\n",
    "next_chars = []\n",
    "# generate sentences with moving windows\n",
    "for i in range(0, len(text) - maxlen, step):\n",
    "    # grabbing \n",
    "    sentences.append(text[i: i + maxlen])\n",
    "    next_chars.append(text[i + maxlen])\n",
    "print('nb sequences:', len(sentences))\n",
    "\n",
    "print('Vectorization...')\n",
    "X = np.zeros((len(sentences), maxlen, len(chars)), dtype=np.bool)\n",
    "y = np.zeros((len(sentences), len(chars)), dtype=np.bool)\n",
    "for i, sentence in enumerate(sentences):\n",
    "    for t, char in enumerate(sentence):\n",
    "        # X : num_sentences x num_words_in_sentence x 'vocab'(chars)\n",
    "        X[i, t, char_indices[char]] = 1\n",
    "    y[i, char_indices[next_chars[i]]] = 1\n",
    "\n",
    "\n",
    "# build the model: a single LSTM\n",
    "print('Build model...')\n",
    "model = Sequential()\n",
    "model.add(LSTM(128, input_shape=(maxlen, len(chars))))\n",
    "model.add(Dense(len(chars)))\n",
    "model.add(Activation('softmax'))\n",
    "\n",
    "optimizer = RMSprop(lr=0.01)\n",
    "model.compile(loss='categorical_crossentropy', optimizer=optimizer)"
   ]
  },
  {
   "cell_type": "code",
   "execution_count": null,
   "metadata": {
    "collapsed": true,
    "scrolled": true
   },
   "outputs": [],
   "source": [
    "# check the sentence and char arrays\n",
    "\n",
    "print (\"+\",sentences[0],\"+\",next_chars[0])\n",
    "print (\"+\",sentences[1],\"+\",next_chars[1])\n",
    "\n"
   ]
  },
  {
   "cell_type": "code",
   "execution_count": 21,
   "metadata": {
    "collapsed": true
   },
   "outputs": [],
   "source": [
    "def sample(preds, temperature=1.0):\n",
    "# helper function to sample an index from a probability array\n",
    "   preds = np.asarray(preds).astype('float64')\n",
    "   preds = np.log(preds) / temperature\n",
    "   exp_preds = np.exp(preds)\n",
    "   preds = exp_preds / np.sum(exp_preds)\n",
    "   probas = np.random.multinomial(1, preds, 1)\n",
    "   return np.argmax(probas)\n"
   ]
  },
  {
   "cell_type": "code",
   "execution_count": null,
   "metadata": {
    "collapsed": true
   },
   "outputs": [],
   "source": [
    "# Run a test model fit with 1 epoch\n",
    "model.fit(X, y, batch_size=128, nb_epoch=1)"
   ]
  },
  {
   "cell_type": "code",
   "execution_count": null,
   "metadata": {
    "collapsed": true
   },
   "outputs": [],
   "source": [
    "from keras.models import model_from_yaml\n",
    "# We'll save our model down in a yaml file\n",
    "\n",
    "# Run the model \n",
    "model.fit(X, y, batch_size=128, nb_epoch=100)\n",
    "\n",
    "# save model as YAML file\n",
    "model_yaml = model.to_yaml()\n",
    "with open(\"/home/ubuntu/64-3-128-E100-run1_model.yaml\", \"w\") as yaml_file:\n",
    "    yaml_file.write(model_yaml)\n",
    "# save weights \n",
    "model.save_weights(\"/home/ubuntu/64-3-128-E100-run1_model.h5\")\n",
    "print(\"Saved 64-3-128-music model run1 to disk\")"
   ]
  },
  {
   "cell_type": "code",
   "execution_count": null,
   "metadata": {
    "collapsed": true
   },
   "outputs": [],
   "source": [
    "# Open the file with the seeding text\n",
    "start_index=1\n",
    "print (\"starting index at\", start_index)\n",
    "with open('/home/ubuntu/input_music/seedfile.abc') as f:\n",
    "    input_text = f.read()\n",
    "\n",
    "print(\"read input text\",input_text)\n",
    "\n",
    "outputfile=('/home/ubuntu/outputmusic-1.abc')\n",
    "target = open(outputfile, 'w')\n",
    "\n",
    "# Run model for range of diversity values.\n",
    "# The diversity dials up the \"creativity\" of the model output\n",
    "\n",
    "for diversity in [0.1,0.14,0.2,0.5,0.8]:\n",
    "    target.write(\"\\n\")\n",
    "    output_text='----- diversity:' + str(diversity)\n",
    "    target.write(output_text)\n",
    "    generated = ''\n",
    "    sentence = input_text[start_index: start_index + maxlen]\n",
    "   \n",
    "    generated += sentence\n",
    "    print('----- Generating with seed: \"' + sentence + '\"')\n",
    "    output_text='----- Generating with seed: \"' + sentence + '\"'\n",
    "    target.write(output_text)\n",
    "    print('generated',generated)\n",
    "    target.write(generated)\n",
    "\n",
    "    for i in range(maxlen*8):\n",
    "        x = np.zeros((1, maxlen, len(chars)))\n",
    "        for t, char in enumerate(sentence):\n",
    "            x[0, t, char_indices[char]] = 1.\n",
    "\n",
    "        preds = model.predict(x, verbose=0)[0]\n",
    "        next_index = sample(preds, diversity)\n",
    "        next_char = indices_char[next_index]\n",
    "\n",
    "        generated += next_char\n",
    "        sentence = sentence[1:] + next_char\n",
    "\n",
    "        target.write(next_char)\n",
    "        target.flush()\n",
    "    target.write(\"\\n\")"
   ]
  },
  {
   "cell_type": "code",
   "execution_count": null,
   "metadata": {
    "collapsed": true
   },
   "outputs": [],
   "source": []
  }
 ],
 "metadata": {
  "anaconda-cloud": {},
  "kernelspec": {
   "display_name": "Python 2",
   "language": "python",
   "name": "python2"
  },
  "language_info": {
   "codemirror_mode": {
    "name": "ipython",
    "version": 2
   },
   "file_extension": ".py",
   "mimetype": "text/x-python",
   "name": "python",
   "nbconvert_exporter": "python",
   "pygments_lexer": "ipython2",
   "version": "2.7.13"
  }
 },
 "nbformat": 4,
 "nbformat_minor": 1
}
